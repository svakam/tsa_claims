{
 "cells": [
  {
   "metadata": {
    "ExecuteTime": {
     "end_time": "2025-06-03T22:20:45.606024Z",
     "start_time": "2025-06-03T22:20:40.190137Z"
    }
   },
   "cell_type": "code",
   "source": [
    "#!pip install pandas\n",
    "import pandas as pd"
   ],
   "id": "1529805afac9ea5f",
   "outputs": [],
   "execution_count": 2
  },
  {
   "metadata": {},
   "cell_type": "markdown",
   "source": "# Analyze & Preprocess",
   "id": "78b033b819abab93"
  },
  {
   "metadata": {
    "ExecuteTime": {
     "end_time": "2025-06-03T22:20:47.436409Z",
     "start_time": "2025-06-03T22:20:45.657045Z"
    }
   },
   "cell_type": "code",
   "source": [
    "# Load the CSV\n",
    "df = pd.read_csv(\"tsa_claims.csv\")\n",
    "df.describe()\n"
   ],
   "id": "57ee1262d4d8044a",
   "outputs": [
    {
     "name": "stderr",
     "output_type": "stream",
     "text": [
      "C:\\Users\\vikra\\AppData\\Local\\Temp\\ipykernel_10216\\248160499.py:2: DtypeWarning: Columns (0,11,12) have mixed types. Specify dtype option on import or set low_memory=False.\n",
      "  df = pd.read_csv(\"tsa_claims.csv\")\n"
     ]
    },
    {
     "data": {
      "text/plain": [
       "         Claim Number Date Received    Incident Date Airport Code  \\\n",
       "count          204267        204004           202084       195743   \n",
       "unique         204258          4007            26807          465   \n",
       "top     2004050450432      5-Dec-03  12/27/2004 0:00          LAX   \n",
       "freq                2           682              144         9596   \n",
       "\n",
       "                         Airport Name       Airline Name  \\\n",
       "count                          195743             169893   \n",
       "unique                            485                318   \n",
       "top     John F. Kennedy International  American Airlines   \n",
       "freq                             9232              17553   \n",
       "\n",
       "                     Claim Type       Claim Site    Item Claim Amount  Status  \\\n",
       "count                    196354           203527  200301       200224  204262   \n",
       "unique                       11                6    4704        36117      15   \n",
       "top     Passenger Property Loss  Checked Baggage   Other       $0.00   Denied   \n",
       "freq                     117868           159753   36908        28445   68339   \n",
       "\n",
       "       Close Amount Disposition  \n",
       "count        135315      131359  \n",
       "unique        17162           3  \n",
       "top          $0.00         Deny  \n",
       "freq          71546       68382  "
      ],
      "text/html": [
       "<div>\n",
       "<style scoped>\n",
       "    .dataframe tbody tr th:only-of-type {\n",
       "        vertical-align: middle;\n",
       "    }\n",
       "\n",
       "    .dataframe tbody tr th {\n",
       "        vertical-align: top;\n",
       "    }\n",
       "\n",
       "    .dataframe thead th {\n",
       "        text-align: right;\n",
       "    }\n",
       "</style>\n",
       "<table border=\"1\" class=\"dataframe\">\n",
       "  <thead>\n",
       "    <tr style=\"text-align: right;\">\n",
       "      <th></th>\n",
       "      <th>Claim Number</th>\n",
       "      <th>Date Received</th>\n",
       "      <th>Incident Date</th>\n",
       "      <th>Airport Code</th>\n",
       "      <th>Airport Name</th>\n",
       "      <th>Airline Name</th>\n",
       "      <th>Claim Type</th>\n",
       "      <th>Claim Site</th>\n",
       "      <th>Item</th>\n",
       "      <th>Claim Amount</th>\n",
       "      <th>Status</th>\n",
       "      <th>Close Amount</th>\n",
       "      <th>Disposition</th>\n",
       "    </tr>\n",
       "  </thead>\n",
       "  <tbody>\n",
       "    <tr>\n",
       "      <th>count</th>\n",
       "      <td>204267</td>\n",
       "      <td>204004</td>\n",
       "      <td>202084</td>\n",
       "      <td>195743</td>\n",
       "      <td>195743</td>\n",
       "      <td>169893</td>\n",
       "      <td>196354</td>\n",
       "      <td>203527</td>\n",
       "      <td>200301</td>\n",
       "      <td>200224</td>\n",
       "      <td>204262</td>\n",
       "      <td>135315</td>\n",
       "      <td>131359</td>\n",
       "    </tr>\n",
       "    <tr>\n",
       "      <th>unique</th>\n",
       "      <td>204258</td>\n",
       "      <td>4007</td>\n",
       "      <td>26807</td>\n",
       "      <td>465</td>\n",
       "      <td>485</td>\n",
       "      <td>318</td>\n",
       "      <td>11</td>\n",
       "      <td>6</td>\n",
       "      <td>4704</td>\n",
       "      <td>36117</td>\n",
       "      <td>15</td>\n",
       "      <td>17162</td>\n",
       "      <td>3</td>\n",
       "    </tr>\n",
       "    <tr>\n",
       "      <th>top</th>\n",
       "      <td>2004050450432</td>\n",
       "      <td>5-Dec-03</td>\n",
       "      <td>12/27/2004 0:00</td>\n",
       "      <td>LAX</td>\n",
       "      <td>John F. Kennedy International</td>\n",
       "      <td>American Airlines</td>\n",
       "      <td>Passenger Property Loss</td>\n",
       "      <td>Checked Baggage</td>\n",
       "      <td>Other</td>\n",
       "      <td>$0.00</td>\n",
       "      <td>Denied</td>\n",
       "      <td>$0.00</td>\n",
       "      <td>Deny</td>\n",
       "    </tr>\n",
       "    <tr>\n",
       "      <th>freq</th>\n",
       "      <td>2</td>\n",
       "      <td>682</td>\n",
       "      <td>144</td>\n",
       "      <td>9596</td>\n",
       "      <td>9232</td>\n",
       "      <td>17553</td>\n",
       "      <td>117868</td>\n",
       "      <td>159753</td>\n",
       "      <td>36908</td>\n",
       "      <td>28445</td>\n",
       "      <td>68339</td>\n",
       "      <td>71546</td>\n",
       "      <td>68382</td>\n",
       "    </tr>\n",
       "  </tbody>\n",
       "</table>\n",
       "</div>"
      ]
     },
     "execution_count": 3,
     "metadata": {},
     "output_type": "execute_result"
    }
   ],
   "execution_count": 3
  },
  {
   "metadata": {
    "ExecuteTime": {
     "end_time": "2025-06-03T22:20:47.672047Z",
     "start_time": "2025-06-03T22:20:47.645873Z"
    }
   },
   "cell_type": "code",
   "source": "df.head()",
   "id": "4b3f7de5829db986",
   "outputs": [
    {
     "data": {
      "text/plain": [
       "    Claim Number Date Received    Incident Date Airport Code  \\\n",
       "0       0909802M      4-Jan-02  12/12/2002 0:00          EWR   \n",
       "1       0202417M      2-Feb-02   1/16/2004 0:00          SEA   \n",
       "2       0202445M      4-Feb-02  11/26/2003 0:00          STL   \n",
       "3       0909816M      7-Feb-02    1/6/2003 0:00          MIA   \n",
       "4  2005032379513     18-Feb-02    2/5/2005 0:00          MCO   \n",
       "\n",
       "                      Airport Name          Airline Name       Claim Type  \\\n",
       "0     Newark International Airport  Continental Airlines  Property Damage   \n",
       "1     Seattle-Tacoma International                   NaN  Property Damage   \n",
       "2  Lambert St. Louis International     American Airlines  Property Damage   \n",
       "3      Miami International Airport     American Airlines  Property Damage   \n",
       "4    Orlando International Airport          Delta (Song)  Property Damage   \n",
       "\n",
       "        Claim Site                                        Item Claim Amount  \\\n",
       "0       Checkpoint                                       Other     $350.00    \n",
       "1  Checked Baggage   Luggage (all types including footlockers)     $100.00    \n",
       "2  Checked Baggage                                 Cell Phones     $278.88    \n",
       "3       Checkpoint   Luggage (all types including footlockers)      $50.00    \n",
       "4       Checkpoint  Baby - Strollers; car seats; playpen; etc.      $84.79    \n",
       "\n",
       "     Status Close Amount      Disposition  \n",
       "0  Approved     $350.00   Approve in Full  \n",
       "1   Settled      $50.00            Settle  \n",
       "2   Settled     $227.92            Settle  \n",
       "3  Approved      $50.00   Approve in Full  \n",
       "4  Approved      $84.79   Approve in Full  "
      ],
      "text/html": [
       "<div>\n",
       "<style scoped>\n",
       "    .dataframe tbody tr th:only-of-type {\n",
       "        vertical-align: middle;\n",
       "    }\n",
       "\n",
       "    .dataframe tbody tr th {\n",
       "        vertical-align: top;\n",
       "    }\n",
       "\n",
       "    .dataframe thead th {\n",
       "        text-align: right;\n",
       "    }\n",
       "</style>\n",
       "<table border=\"1\" class=\"dataframe\">\n",
       "  <thead>\n",
       "    <tr style=\"text-align: right;\">\n",
       "      <th></th>\n",
       "      <th>Claim Number</th>\n",
       "      <th>Date Received</th>\n",
       "      <th>Incident Date</th>\n",
       "      <th>Airport Code</th>\n",
       "      <th>Airport Name</th>\n",
       "      <th>Airline Name</th>\n",
       "      <th>Claim Type</th>\n",
       "      <th>Claim Site</th>\n",
       "      <th>Item</th>\n",
       "      <th>Claim Amount</th>\n",
       "      <th>Status</th>\n",
       "      <th>Close Amount</th>\n",
       "      <th>Disposition</th>\n",
       "    </tr>\n",
       "  </thead>\n",
       "  <tbody>\n",
       "    <tr>\n",
       "      <th>0</th>\n",
       "      <td>0909802M</td>\n",
       "      <td>4-Jan-02</td>\n",
       "      <td>12/12/2002 0:00</td>\n",
       "      <td>EWR</td>\n",
       "      <td>Newark International Airport</td>\n",
       "      <td>Continental Airlines</td>\n",
       "      <td>Property Damage</td>\n",
       "      <td>Checkpoint</td>\n",
       "      <td>Other</td>\n",
       "      <td>$350.00</td>\n",
       "      <td>Approved</td>\n",
       "      <td>$350.00</td>\n",
       "      <td>Approve in Full</td>\n",
       "    </tr>\n",
       "    <tr>\n",
       "      <th>1</th>\n",
       "      <td>0202417M</td>\n",
       "      <td>2-Feb-02</td>\n",
       "      <td>1/16/2004 0:00</td>\n",
       "      <td>SEA</td>\n",
       "      <td>Seattle-Tacoma International</td>\n",
       "      <td>NaN</td>\n",
       "      <td>Property Damage</td>\n",
       "      <td>Checked Baggage</td>\n",
       "      <td>Luggage (all types including footlockers)</td>\n",
       "      <td>$100.00</td>\n",
       "      <td>Settled</td>\n",
       "      <td>$50.00</td>\n",
       "      <td>Settle</td>\n",
       "    </tr>\n",
       "    <tr>\n",
       "      <th>2</th>\n",
       "      <td>0202445M</td>\n",
       "      <td>4-Feb-02</td>\n",
       "      <td>11/26/2003 0:00</td>\n",
       "      <td>STL</td>\n",
       "      <td>Lambert St. Louis International</td>\n",
       "      <td>American Airlines</td>\n",
       "      <td>Property Damage</td>\n",
       "      <td>Checked Baggage</td>\n",
       "      <td>Cell Phones</td>\n",
       "      <td>$278.88</td>\n",
       "      <td>Settled</td>\n",
       "      <td>$227.92</td>\n",
       "      <td>Settle</td>\n",
       "    </tr>\n",
       "    <tr>\n",
       "      <th>3</th>\n",
       "      <td>0909816M</td>\n",
       "      <td>7-Feb-02</td>\n",
       "      <td>1/6/2003 0:00</td>\n",
       "      <td>MIA</td>\n",
       "      <td>Miami International Airport</td>\n",
       "      <td>American Airlines</td>\n",
       "      <td>Property Damage</td>\n",
       "      <td>Checkpoint</td>\n",
       "      <td>Luggage (all types including footlockers)</td>\n",
       "      <td>$50.00</td>\n",
       "      <td>Approved</td>\n",
       "      <td>$50.00</td>\n",
       "      <td>Approve in Full</td>\n",
       "    </tr>\n",
       "    <tr>\n",
       "      <th>4</th>\n",
       "      <td>2005032379513</td>\n",
       "      <td>18-Feb-02</td>\n",
       "      <td>2/5/2005 0:00</td>\n",
       "      <td>MCO</td>\n",
       "      <td>Orlando International Airport</td>\n",
       "      <td>Delta (Song)</td>\n",
       "      <td>Property Damage</td>\n",
       "      <td>Checkpoint</td>\n",
       "      <td>Baby - Strollers; car seats; playpen; etc.</td>\n",
       "      <td>$84.79</td>\n",
       "      <td>Approved</td>\n",
       "      <td>$84.79</td>\n",
       "      <td>Approve in Full</td>\n",
       "    </tr>\n",
       "  </tbody>\n",
       "</table>\n",
       "</div>"
      ]
     },
     "execution_count": 4,
     "metadata": {},
     "output_type": "execute_result"
    }
   ],
   "execution_count": 4
  },
  {
   "metadata": {},
   "cell_type": "markdown",
   "source": "### Convert datetime to dates, dollar figures (str) to floats",
   "id": "5dfd8ac28e061bd7"
  },
  {
   "metadata": {
    "ExecuteTime": {
     "end_time": "2025-06-03T22:20:53.167262Z",
     "start_time": "2025-06-03T22:20:47.866258Z"
    }
   },
   "cell_type": "code",
   "source": [
    "# Dates\n",
    "from datetime import datetime\n",
    "\n",
    "def parse_date_received(date_str):\n",
    "    if pd.isna(date_str):\n",
    "        return pd.NaT\n",
    "    for fmt in ('%d-%b-%y', '%m/%d/%Y %H:%M', '%m/%d/%Y'):\n",
    "        try:\n",
    "            return datetime.strptime(date_str.strip(), fmt)\n",
    "        except (ValueError, TypeError):\n",
    "            continue\n",
    "    return pd.NaT\n",
    "\n",
    "df['Incident Date'] = pd.to_datetime(df['Incident Date'], errors='coerce', format='%m/%d/%Y', exact=False)\n",
    "df['Date Received'] = df['Date Received'].apply(parse_date_received)\n",
    "\n",
    "# Dollar amounts\n",
    "df['Close Amount'] = (\n",
    "    df['Close Amount']\n",
    "    .astype(str)                                      # Ensure it's string type\n",
    "    .str.replace('$', '', regex=False)                # Remove dollar sign\n",
    "    .str.replace(';', '', regex=False)                # Remove semicolons\n",
    "    .str.replace(',', '', regex=False)                # Just in case some have commas\n",
    "    .str.strip()                                       # Trim spaces\n",
    "    .replace('', pd.NA)                                # Replace empty strings with NaN\n",
    "    .astype(float)                                     # Convert to float\n",
    ")\n",
    "df['Claim Amount'] = (\n",
    "    df['Close Amount']\n",
    "    .astype(str)                            \n",
    "    .str.replace('$', '', regex=False)           \n",
    "    .str.replace(';', '', regex=False)         \n",
    "    .str.replace(',', '', regex=False)          \n",
    "    .str.strip()                                    \n",
    "    .replace('', pd.NA)                           \n",
    "    .astype(float)                                    \n",
    ")"
   ],
   "id": "54317f5fe15a853c",
   "outputs": [],
   "execution_count": 5
  },
  {
   "metadata": {},
   "cell_type": "markdown",
   "source": "### Total # Rows, Distinct Years, # Nulls",
   "id": "f8b2ded42ef82995"
  },
  {
   "metadata": {
    "ExecuteTime": {
     "end_time": "2025-06-03T22:20:53.536615Z",
     "start_time": "2025-06-03T22:20:53.297724Z"
    }
   },
   "cell_type": "code",
   "source": [
    "# Show total number of rows\n",
    "print(f\"Total number of rows: {len(df)}\")\n",
    "\n",
    "# Show distinct years in 'Incident Date'\n",
    "distinct_years_inc = sorted(int(y) for y in df['Incident Date'].dropna().dt.year.unique())\n",
    "distinct_years_rec = sorted(int(y) for y in df['Date Received'].dropna().dt.year.unique())\n",
    "print(f\"\\nDistinct years available in 'Incident Date': {sorted(distinct_years_inc)}\")\n",
    "print(f\"\\nDistinct years available in 'Date Received': {sorted(distinct_years_rec)}\")\n",
    "\n",
    "# Before 2002\n",
    "before_2002 = df[df['Incident Date'] < '2002-01-01']\n",
    "print(f\"Rows before 2002: {len(before_2002)}\")\n",
    "\n",
    "# After 2015\n",
    "after_2015 = df[df['Date Received'] > '2015-12-31']\n",
    "print(f\"Rows after 2015: {len(after_2015)}\")\n",
    "\n",
    "# Rows between 2013-2015\n",
    "rows_2013_2015 = df[\n",
    "    (df['Date Received'] >= '2013-01-01') &\n",
    "    (df['Date Received'] <= '2015-12-31')\n",
    "]\n",
    "\n",
    "print(f\"Number of rows from 2013 to 2015: {len(rows_2013_2015)}\")\n",
    "\n",
    "# Count rows with no 'Incident Date'\n",
    "missing_incident_date = df['Incident Date'].isnull().sum()\n",
    "print(f\"\\nNumber of rows with no 'Incident Date': {missing_incident_date}\")\n",
    "\n",
    "# Count rows with no 'Date Received'\n",
    "missing_received_date = df['Date Received'].isnull().sum()\n",
    "print(f\"Number of rows with no 'Date Received': {missing_received_date}\")\n",
    "\n",
    "# Show number of nulls per column\n",
    "null_counts = df.isnull().sum()\n",
    "print(\"\\nNumber of null rows per column:\")\n",
    "print(null_counts)"
   ],
   "id": "4cb21ddf71220477",
   "outputs": [
    {
     "name": "stdout",
     "output_type": "stream",
     "text": [
      "Total number of rows: 204267\n",
      "\n",
      "Distinct years available in 'Incident Date': [1996, 2000, 2001, 2002, 2003, 2004, 2005, 2006, 2007, 2008, 2009, 2010, 2011, 2012, 2013]\n",
      "\n",
      "Distinct years available in 'Date Received': [1994, 1996, 2000, 2002, 2003, 2004, 2005, 2006, 2007, 2008, 2009, 2010, 2011, 2012, 2013, 2014, 2015, 2020, 2025, 2040, 2044, 2055]\n",
      "Rows before 2002: 30\n",
      "Rows after 2015: 9\n",
      "Number of rows from 2013 to 2015: 27220\n",
      "\n",
      "Number of rows with no 'Incident Date': 19870\n",
      "Number of rows with no 'Date Received': 263\n",
      "\n",
      "Number of null rows per column:\n",
      "Claim Number         0\n",
      "Date Received      263\n",
      "Incident Date    19870\n",
      "Airport Code      8524\n",
      "Airport Name      8524\n",
      "Airline Name     34374\n",
      "Claim Type        7913\n",
      "Claim Site         740\n",
      "Item              3966\n",
      "Claim Amount     68952\n",
      "Status               5\n",
      "Close Amount     68952\n",
      "Disposition      72908\n",
      "dtype: int64\n"
     ]
    }
   ],
   "execution_count": 6
  },
  {
   "metadata": {},
   "cell_type": "markdown",
   "source": "### Add 'Date Received' as 'Incident Date' if the latter doesn't exist; count # rows where both dates missing and drop",
   "id": "9b6245f16c658813"
  },
  {
   "metadata": {
    "ExecuteTime": {
     "end_time": "2025-06-03T22:20:53.675807Z",
     "start_time": "2025-06-03T22:20:53.653272Z"
    }
   },
   "cell_type": "code",
   "source": [
    "print(\"Replacing empty Incident Dates with Date Received\")\n",
    "df['Incident Date'] = df['Incident Date'].fillna(df['Date Received'])\n",
    "df['Date Received'] = df['Date Received'].fillna(df['Incident Date'])\n",
    "\n",
    "# Count rows with no 'Incident Date'\n",
    "missing_incident_date = df['Incident Date'].isnull().sum()\n",
    "print(f\"\\nNumber of rows with no 'Incident Date': {missing_incident_date}\")\n",
    "\n",
    "# Count rows with no 'Date Received'\n",
    "missing_received_date = df['Date Received'].isnull().sum()\n",
    "print(f\"Number of rows with no 'Date Received': {missing_received_date}\")\n",
    "\n",
    "both_missing = df[df['Incident Date'].isna() & df['Date Received'].isna()]\n",
    "print(f\"Rows where both 'Incident Date' and 'Date Received' are missing: {len(both_missing)}\")"
   ],
   "id": "e3fe0eba97bc05d5",
   "outputs": [
    {
     "name": "stdout",
     "output_type": "stream",
     "text": [
      "Replacing empty Incident Dates with Date Received\n",
      "\n",
      "Number of rows with no 'Incident Date': 124\n",
      "Number of rows with no 'Date Received': 124\n",
      "Rows where both 'Incident Date' and 'Date Received' are missing: 124\n"
     ]
    }
   ],
   "execution_count": 7
  },
  {
   "metadata": {},
   "cell_type": "markdown",
   "source": "### Drop rows where both dates missing",
   "id": "4098ce4885774411"
  },
  {
   "metadata": {
    "ExecuteTime": {
     "end_time": "2025-06-03T22:20:54.013832Z",
     "start_time": "2025-06-03T22:20:53.964750Z"
    }
   },
   "cell_type": "code",
   "source": "df = df[~(df['Incident Date'].isna() & df['Date Received'].isna())] # Drop n/a dates",
   "id": "a2618486dde5b49e",
   "outputs": [],
   "execution_count": 8
  },
  {
   "metadata": {},
   "cell_type": "markdown",
   "source": "### Convert missing airline names to 'n/a' and show ",
   "id": "783005965d82c54f"
  },
  {
   "metadata": {
    "ExecuteTime": {
     "end_time": "2025-06-03T22:20:54.070731Z",
     "start_time": "2025-06-03T22:20:54.037426Z"
    }
   },
   "cell_type": "code",
   "source": [
    "# Handle missing 'Airline Name' as 'N/A'\n",
    "df['Airline Name'] = df['Airline Name'].fillna('N/A')"
   ],
   "id": "4365e6eddf4fc6f2",
   "outputs": [],
   "execution_count": 9
  },
  {
   "metadata": {},
   "cell_type": "markdown",
   "source": "",
   "id": "3d982bfa7136e91a"
  },
  {
   "cell_type": "code",
   "id": "initial_id",
   "metadata": {
    "collapsed": true,
    "ExecuteTime": {
     "end_time": "2025-06-03T22:20:54.474247Z",
     "start_time": "2025-06-03T22:20:54.127190Z"
    }
   },
   "source": [
    "# Show all airlines (including 'N/A')\n",
    "all_airlines = df['Airline Name'].unique()\n",
    "print(f\"\\nTotal # distinct airlines available ({len(all_airlines)} before preprocess):\")\n",
    "print(sorted(all_airlines))\n",
    "\n",
    "# Number of rows per airline (including 'N/A')\n",
    "airline_counts = df['Airline Name'].value_counts(dropna=False)\n",
    "print(\"\\nNumber of rows per airline (including 'N/A'):\")\n",
    "print(airline_counts)\n",
    "num_airlines = df['Airline Name'].dropna().apply(lambda x: x.strip()).replace('', pd.NA).dropna().nunique()\n",
    "print(f\"\\nNumber of distinct airlines available: {num_airlines}\")\n",
    "print(f\"\\nUnited Airlines? {df['Airline Name'].str.strip().str.lower().isin(['united', 'united airlines']).any()}\")\n"
   ],
   "outputs": [
    {
     "name": "stdout",
     "output_type": "stream",
     "text": [
      "\n",
      "Total # distinct airlines available (319 before preprocess):\n",
      "['-', 'ATA Aerocondor', 'Aer Lingus', 'Aero California', 'Aero Costa Rica', 'Aero Flot', 'Aero Lineas Mexicanas J S S A De C V', 'Aero Lloyd', 'Aero Mexico', 'Aero Peru', 'AeroGal', 'Aeroflot Russian International', 'Aerolineas Argentinas', 'Aerolitoral', 'Aeromar', 'Aerosvit Airlines', 'Aerosweet Airlines', 'Air 2000 Ltd Great Britain', 'Air Afrique', 'Air Aruba', 'Air Atlanta Icelandic', 'Air Atlantic Ltd', 'Air Belgium International S A', 'Air Berlin', 'Air Botina', 'Air Canada', 'Air China', 'Air Europa', 'Air France', 'Air India', 'Air Inter Europe', 'Air Jamaica', 'Air Jamaica  ', 'Air Labrador', 'Air Malta', 'Air New Zealand', 'Air New Zealand  ', 'Air Nippon', 'Air Pacific', 'Air Pacific  ', 'Air Phillipines', 'Air Portugal', 'Air Portugal  ', 'Air Southwest Ltd', 'Air Tahiti Nui', 'Air Tran Airlines(do not use)', 'Air Ukraine International', 'Air Ukraine International  ', 'AirTran Airlines', 'Aires Airline', 'Alaska Airlines', 'Alaska Airlines  ', 'Alitalia', 'Alitalia  ', 'All Nippon Airways', 'All Nippon Airways  ', 'Allegheny Airlines Inc', 'Allegiant Air', 'Aloha Airlines', 'Aloha Airlines  ', 'Aloha Islandair Inc', 'America Trans Air', 'America West', 'America West  ', 'American Airlines', 'American Airlines  ', 'American Central', 'American Central  ', 'American Eagle', 'American Eagle  ', 'American West', 'Arik Airlines', 'Arika Isreali Airlines', 'Arika Isreali Airlines  ', 'Asiana Airlines', 'Austrian Airlines', 'Austrian Airlines  ', 'Aviaco', 'Aviaco  ', 'Avianca', 'Avianca  ', 'Aviation Advantage Inc', 'Bahama Airlines', 'Bahama Airlines  ', 'Big Sky Airlines', 'Brit Air', 'Brit Air  ', 'Britannia Airways Ltd', 'British Airways', 'British Airways  ', 'British Midland Airways Ltd', 'British Midland Airways Ltd  ', 'British West Indies Airlines', 'Brussels Airlines', 'Cameroon Airlines', 'Cameroon Airlines  ', 'CanJet', 'Canadian Airlines', 'Canadian Airlines  ', 'Cape Air', 'Cape Air  ', 'Carnival Airlines', 'Carribean Airlines', 'Cathay Pacific - CX', 'Cayman Airlines', 'Cayman Airlines  ', 'Champion Airlines', 'China Airlines', 'China Airlines  ', 'China Eastern Airlines', 'China Eastern Airlines  ', 'China Southern Airlines', 'China Southern Airlines  ', 'Civil Aviation - Non-Commercial Carrier', 'Comair Inc', 'Comair Inc  ', 'Commercial Airways', 'Condor Air', 'Continental Airlines', 'Continental Airlines  ', 'Continental Express Inc', 'Continental Express Inc  ', 'Copa Airlines', 'Croatia Airlines', 'Croatia Airlines  ', 'Cubana', 'Cubana  ', 'Czech Airlines', 'Czech Airlines  ', 'Czechoslavak Airlines', 'Delta (Song)', 'Delta Air Lines', 'Delta Air Lines  ', 'Direct Air', 'EL AL Israeli Airlines', 'EL AL Israeli Airlines  ', 'ERA aviation Air', 'EVA airlines', 'Egypt Air', 'Egypt Air  ', 'Emirates', 'Estonia Air', 'Ethopian Airlines', 'Etihad Airways', 'Eurowings', 'Eurowings  ', 'Finnair', 'Frontier Airlines', 'Frontier Aviation Inc', 'Frontier Aviation Inc  ', 'Globe Span Airlines', 'Go', 'Great Lakes Airline', 'Greyhound Air', 'Grupo TACA', 'Guyana Airways Corporation', 'Guyana Airways Corporation  ', 'Hainan Airlines', 'Harmony Airlines', 'Hawaiian Airlines', 'Hawaiian Airlines  ', 'Hooters Air (PACE)', 'Horizon Air', 'Iberia Airlines', 'Iceland Air', 'Iceland Air  ', 'Independence Air', 'Indian Airlines', 'Indian Airlines  ', 'Interjet', 'Iran Air', 'Island Air', 'Island Airlines Nantucket', 'JALways Airlines', 'JAT', 'JAT  ', 'Japan Air Systems  ', 'Japan Airlines', 'Japan Airlines  ', 'Jet Airways', 'Jet Blue', 'Jet Train Airlines', 'KLM Royal Dutch Airlines', 'KLM Royal Dutch Airlines  ', 'Korean Airlines', 'Korean Airlines  ', 'Kuwait Airlines', 'Kuwait Airlines  ', 'Kuwait Airways', 'Kuwait Airways  ', 'LOT Polish Airlines', 'LOT Polish Airlines  ', 'Lan Airlines', 'Liat Airlines', 'Lufthansa', 'Lufthansa  ', 'Malaysian Airline System', 'Malaysian Airline System  ', 'Malev Hungarian Airlines', 'Malev Hungarian Airlines  ', 'Martinair', 'Maxair', 'Mesa Airlines', 'Mexicana', 'Mexicana  ', 'Middle East Airlines', 'Middle East Airlines  ', 'Midway Airlines', 'Midway Airlines  ', 'Midwest Express Airlines', 'Midwest Express Airlines  ', 'Monarch Airlines Ltd', 'Monarch Airlines Ltd  ', 'Montair Aviation Inc', 'Montair Aviation Inc  ', 'Mountain Air Express Inc', 'Mountain West', 'N/A', 'North American Airlines', 'Northwest Airlines', 'Northwest Airlines  ', 'Northwest International Airways Ltd', 'Norwegian Airlines', 'OMNI Air Express- (OY)', 'Olympic Airways', 'Pace Airlines', 'Pacific Southwest Airlines Inc', 'Pacific Southwest Airlines Inc  ', 'Pakistan International Airlines Cor', 'Pakistan International Airlines Cor  ', 'Pan American Airways Corp.', 'Philippine Airlines', 'Piedmont Airlines Inc', 'Piedmont Airlines Inc  ', 'Polish Airlines', 'Polish Airlines  ', 'Porter Airlines', 'Primaris Airlines', 'Qantas Airlines', 'Qantus Airways', 'Qantus Airways  ', 'Qatar airlines', 'Reno Air', 'Reno Air  ', 'Republic Airways', 'Royal Air Maroc', 'Royal Dutch Airlines', 'Royal Dutch Airlines  ', 'Royal Jordanian Airline', 'Royal Jordanian Airline  ', 'Royal Wings Airlines', 'Ryan Air', 'Ryan Air ', 'Santa Barbara Airlines', 'Sata', 'Saudi Arabian Airlines', 'Saudi Arabian Airlines  ', 'Scandinavian Airlines Systems', 'Scandinavian Airlines Systems  ', 'Seaborne Airlines', 'Silverjet', 'Singapore Airlines', 'Singapore Airlines  ', 'SkyBus', 'Skywest Airlines Australia', 'Skywest Airlines Australia  ', 'Skywest Airlines Inc USA', 'Skywest Airlines Inc USA  ', 'SonAir', 'South African Airways', 'South African Airways  ', 'Southeast Airlines', 'Southwest Airlines', 'Southwest Airlines  ', 'Spirit Airlines', 'Sun Country Airlines Inc', 'Sun Country Airlines Inc  ', 'Sun Jet International Airlines Inc', 'SunWing Airlines', 'Sunworld International Airlines Inc', 'Surinam Airways', 'Swiss Air', 'Swiss Air  ', 'TACA airlines', 'TAM airlines', 'TAP Portugal', 'TWA', 'Thai Airways', 'Thai Airways  ', 'Thomas Cook Airline', 'Tower Air', 'Tran Meridian Airlines', 'Transaero Airlines', 'Travelspan', 'Turkish Airlines', 'Turkish Airlines  ', 'UAL', 'UAL  ', 'US Express', 'USA 3000 (U5)', 'USAir', 'USAir  ', 'V Australia', 'Vieques Air', 'Virgin America', 'Virgin Atlantic', 'Virgin Express', 'Virgin Express  ', 'Vision Airlines', 'Volaris Airlines', 'Webjet', 'Western Pacific Airlines Inc Westpac', 'Western Pacific Airlines Inc Westpac  ', 'Westjet Airlines Ltd', 'Westjet Airlines Ltd  ', 'Wiggins Airways', 'XL Airways', 'Xtra Airways', 'vivaAerobus']\n",
      "\n",
      "Number of rows per airline (including 'N/A'):\n",
      "Airline Name\n",
      "N/A                              34252\n",
      "American Airlines                17553\n",
      "Delta Air Lines                  17221\n",
      "UAL                              13993\n",
      "Southwest Airlines               13162\n",
      "                                 ...  \n",
      "Piedmont Airlines Inc                1\n",
      "British Midland Airways Ltd          1\n",
      "Interjet                             1\n",
      "Brussels Airlines                    1\n",
      "Air Aruba                            1\n",
      "Name: count, Length: 319, dtype: int64\n",
      "\n",
      "Number of distinct airlines available: 234\n",
      "\n",
      "United Airlines? False\n"
     ]
    }
   ],
   "execution_count": 10
  },
  {
   "metadata": {},
   "cell_type": "markdown",
   "source": "### ",
   "id": "4644209bc098904d"
  },
  {
   "metadata": {
    "ExecuteTime": {
     "end_time": "2025-06-03T22:20:54.682836Z",
     "start_time": "2025-06-03T22:20:54.554311Z"
    }
   },
   "cell_type": "code",
   "source": [
    "# Convert UAL to \"United\"\n",
    "df['Airline Name'] = df['Airline Name'].apply(lambda x: x.strip() if isinstance(x, str) else x)\n",
    "df.loc[df['Airline Name'] == 'UAL', 'Airline Name'] = 'United'\n"
   ],
   "id": "47c02ce71492da85",
   "outputs": [],
   "execution_count": 11
  },
  {
   "metadata": {
    "ExecuteTime": {
     "end_time": "2025-06-03T22:20:55.109523Z",
     "start_time": "2025-06-03T22:20:54.745206Z"
    }
   },
   "cell_type": "code",
   "source": [
    "# Show all airlines (including 'N/A')\n",
    "all_airlines = df['Airline Name'].unique()\n",
    "print(f\"\\nTotal # distinct airlines available ({len(all_airlines)} before preprocess):\")\n",
    "print(sorted(all_airlines))\n",
    "\n",
    "# Number of rows per airline (including 'N/A')\n",
    "airline_counts = df['Airline Name'].value_counts(dropna=False)\n",
    "print(\"\\nNumber of rows per airline (including 'N/A'):\")\n",
    "print(airline_counts)\n",
    "num_airlines = df['Airline Name'].dropna().apply(lambda x: x.strip()).replace('', pd.NA).dropna().nunique()\n",
    "print(f\"\\nNumber of distinct airlines available: {num_airlines}\")\n",
    "print(f\"\\nUnited Airlines? {df['Airline Name'].str.strip().str.lower().isin(['united', 'united airlines']).any()}\")\n"
   ],
   "id": "6fd64bb292f6ac7f",
   "outputs": [
    {
     "name": "stdout",
     "output_type": "stream",
     "text": [
      "\n",
      "Total # distinct airlines available (234 before preprocess):\n",
      "['-', 'ATA Aerocondor', 'Aer Lingus', 'Aero California', 'Aero Costa Rica', 'Aero Flot', 'Aero Lineas Mexicanas J S S A De C V', 'Aero Lloyd', 'Aero Mexico', 'Aero Peru', 'AeroGal', 'Aeroflot Russian International', 'Aerolineas Argentinas', 'Aerolitoral', 'Aeromar', 'Aerosvit Airlines', 'Aerosweet Airlines', 'Air 2000 Ltd Great Britain', 'Air Afrique', 'Air Aruba', 'Air Atlanta Icelandic', 'Air Atlantic Ltd', 'Air Belgium International S A', 'Air Berlin', 'Air Botina', 'Air Canada', 'Air China', 'Air Europa', 'Air France', 'Air India', 'Air Inter Europe', 'Air Jamaica', 'Air Labrador', 'Air Malta', 'Air New Zealand', 'Air Nippon', 'Air Pacific', 'Air Phillipines', 'Air Portugal', 'Air Southwest Ltd', 'Air Tahiti Nui', 'Air Tran Airlines(do not use)', 'Air Ukraine International', 'AirTran Airlines', 'Aires Airline', 'Alaska Airlines', 'Alitalia', 'All Nippon Airways', 'Allegheny Airlines Inc', 'Allegiant Air', 'Aloha Airlines', 'Aloha Islandair Inc', 'America Trans Air', 'America West', 'American Airlines', 'American Central', 'American Eagle', 'American West', 'Arik Airlines', 'Arika Isreali Airlines', 'Asiana Airlines', 'Austrian Airlines', 'Aviaco', 'Avianca', 'Aviation Advantage Inc', 'Bahama Airlines', 'Big Sky Airlines', 'Brit Air', 'Britannia Airways Ltd', 'British Airways', 'British Midland Airways Ltd', 'British West Indies Airlines', 'Brussels Airlines', 'Cameroon Airlines', 'CanJet', 'Canadian Airlines', 'Cape Air', 'Carnival Airlines', 'Carribean Airlines', 'Cathay Pacific - CX', 'Cayman Airlines', 'Champion Airlines', 'China Airlines', 'China Eastern Airlines', 'China Southern Airlines', 'Civil Aviation - Non-Commercial Carrier', 'Comair Inc', 'Commercial Airways', 'Condor Air', 'Continental Airlines', 'Continental Express Inc', 'Copa Airlines', 'Croatia Airlines', 'Cubana', 'Czech Airlines', 'Czechoslavak Airlines', 'Delta (Song)', 'Delta Air Lines', 'Direct Air', 'EL AL Israeli Airlines', 'ERA aviation Air', 'EVA airlines', 'Egypt Air', 'Emirates', 'Estonia Air', 'Ethopian Airlines', 'Etihad Airways', 'Eurowings', 'Finnair', 'Frontier Airlines', 'Frontier Aviation Inc', 'Globe Span Airlines', 'Go', 'Great Lakes Airline', 'Greyhound Air', 'Grupo TACA', 'Guyana Airways Corporation', 'Hainan Airlines', 'Harmony Airlines', 'Hawaiian Airlines', 'Hooters Air (PACE)', 'Horizon Air', 'Iberia Airlines', 'Iceland Air', 'Independence Air', 'Indian Airlines', 'Interjet', 'Iran Air', 'Island Air', 'Island Airlines Nantucket', 'JALways Airlines', 'JAT', 'Japan Air Systems', 'Japan Airlines', 'Jet Airways', 'Jet Blue', 'Jet Train Airlines', 'KLM Royal Dutch Airlines', 'Korean Airlines', 'Kuwait Airlines', 'Kuwait Airways', 'LOT Polish Airlines', 'Lan Airlines', 'Liat Airlines', 'Lufthansa', 'Malaysian Airline System', 'Malev Hungarian Airlines', 'Martinair', 'Maxair', 'Mesa Airlines', 'Mexicana', 'Middle East Airlines', 'Midway Airlines', 'Midwest Express Airlines', 'Monarch Airlines Ltd', 'Montair Aviation Inc', 'Mountain Air Express Inc', 'Mountain West', 'N/A', 'North American Airlines', 'Northwest Airlines', 'Northwest International Airways Ltd', 'Norwegian Airlines', 'OMNI Air Express- (OY)', 'Olympic Airways', 'Pace Airlines', 'Pacific Southwest Airlines Inc', 'Pakistan International Airlines Cor', 'Pan American Airways Corp.', 'Philippine Airlines', 'Piedmont Airlines Inc', 'Polish Airlines', 'Porter Airlines', 'Primaris Airlines', 'Qantas Airlines', 'Qantus Airways', 'Qatar airlines', 'Reno Air', 'Republic Airways', 'Royal Air Maroc', 'Royal Dutch Airlines', 'Royal Jordanian Airline', 'Royal Wings Airlines', 'Ryan Air', 'Santa Barbara Airlines', 'Sata', 'Saudi Arabian Airlines', 'Scandinavian Airlines Systems', 'Seaborne Airlines', 'Silverjet', 'Singapore Airlines', 'SkyBus', 'Skywest Airlines Australia', 'Skywest Airlines Inc USA', 'SonAir', 'South African Airways', 'Southeast Airlines', 'Southwest Airlines', 'Spirit Airlines', 'Sun Country Airlines Inc', 'Sun Jet International Airlines Inc', 'SunWing Airlines', 'Sunworld International Airlines Inc', 'Surinam Airways', 'Swiss Air', 'TACA airlines', 'TAM airlines', 'TAP Portugal', 'TWA', 'Thai Airways', 'Thomas Cook Airline', 'Tower Air', 'Tran Meridian Airlines', 'Transaero Airlines', 'Travelspan', 'Turkish Airlines', 'US Express', 'USA 3000 (U5)', 'USAir', 'United', 'V Australia', 'Vieques Air', 'Virgin America', 'Virgin Atlantic', 'Virgin Express', 'Vision Airlines', 'Volaris Airlines', 'Webjet', 'Western Pacific Airlines Inc Westpac', 'Westjet Airlines Ltd', 'Wiggins Airways', 'XL Airways', 'Xtra Airways', 'vivaAerobus']\n",
      "\n",
      "Number of rows per airline (including 'N/A'):\n",
      "Airline Name\n",
      "N/A                      34252\n",
      "Delta Air Lines          25586\n",
      "American Airlines        23870\n",
      "Southwest Airlines       20540\n",
      "United                   19875\n",
      "                         ...  \n",
      "Air Atlanta Icelandic        1\n",
      "Interjet                     1\n",
      "Aero Peru                    1\n",
      "Brussels Airlines            1\n",
      "Air Aruba                    1\n",
      "Name: count, Length: 234, dtype: int64\n",
      "\n",
      "Number of distinct airlines available: 234\n",
      "\n",
      "United Airlines? True\n"
     ]
    }
   ],
   "execution_count": 12
  },
  {
   "metadata": {},
   "cell_type": "markdown",
   "source": "### Check median and average for claim amount and close amount for SeaTac, between 4/29/2012 - 12/31/2015",
   "id": "50c0f7b371a8817f"
  },
  {
   "metadata": {
    "ExecuteTime": {
     "end_time": "2025-06-03T22:23:51.202331Z",
     "start_time": "2025-06-03T22:23:51.155333Z"
    }
   },
   "cell_type": "code",
   "source": [
    "# Filter by date range and airport code \"SEA\"\n",
    "filtered_df = df[\n",
    "    (df['Incident Date'] >= '2012-04-29') &\n",
    "    (df['Incident Date'] <= '2015-12-31') &\n",
    "    (df['Airport Code'] == 'SEA')\n",
    "]\n",
    "\n",
    "# Calculate median and average\n",
    "summary = {\n",
    "    'Claim Amount': {\n",
    "        'Median': filtered_df['Claim Amount'].median(),\n",
    "        'Average': filtered_df['Claim Amount'].mean()\n",
    "    },\n",
    "    'Close Amount': {\n",
    "        'Median': filtered_df['Close Amount'].median(),\n",
    "        'Average': filtered_df['Close Amount'].mean()\n",
    "    }\n",
    "}\n",
    "\n",
    "# Print the results\n",
    "for col, stats in summary.items():\n",
    "    print(f\"\\n{col} at SEA Airport (2012-04-29 to 2015-12-31):\")\n",
    "    print(f\"  Median: ${stats['Median']:.2f}\")\n",
    "    print(f\"  Average: ${stats['Average']:.2f}\")"
   ],
   "id": "b68e8fda668d5f90",
   "outputs": [
    {
     "name": "stdout",
     "output_type": "stream",
     "text": [
      "\n",
      "Claim Amount at SEA Airport (2012-04-29 to 2015-12-31):\n",
      "  Median: $nan\n",
      "  Average: $nan\n",
      "\n",
      "Close Amount at SEA Airport (2012-04-29 to 2015-12-31):\n",
      "  Median: $nan\n",
      "  Average: $nan\n"
     ]
    },
    {
     "name": "stderr",
     "output_type": "stream",
     "text": [
      "C:\\Users\\vikra\\dev\\School\\dv5320\\Final Proj\\tsaclaims\\.venv\\Lib\\site-packages\\numpy\\lib\\_nanfunctions_impl.py:1215: RuntimeWarning: Mean of empty slice\n",
      "  return np.nanmean(a, axis, out=out, keepdims=keepdims)\n",
      "C:\\Users\\vikra\\dev\\School\\dv5320\\Final Proj\\tsaclaims\\.venv\\Lib\\site-packages\\numpy\\lib\\_nanfunctions_impl.py:1215: RuntimeWarning: Mean of empty slice\n",
      "  return np.nanmean(a, axis, out=out, keepdims=keepdims)\n"
     ]
    }
   ],
   "execution_count": 16
  },
  {
   "metadata": {},
   "cell_type": "markdown",
   "source": "### Save to CSV",
   "id": "912cdeb933704219"
  },
  {
   "metadata": {
    "ExecuteTime": {
     "end_time": "2025-06-03T22:20:59.266871Z",
     "start_time": "2025-06-03T22:20:55.353217Z"
    }
   },
   "cell_type": "code",
   "source": "df.to_csv(\"tsa_claims_clean.csv\", index=False)",
   "id": "54197b7f5f758408",
   "outputs": [],
   "execution_count": 14
  }
 ],
 "metadata": {
  "kernelspec": {
   "display_name": "Python 3",
   "language": "python",
   "name": "python3"
  },
  "language_info": {
   "codemirror_mode": {
    "name": "ipython",
    "version": 2
   },
   "file_extension": ".py",
   "mimetype": "text/x-python",
   "name": "python",
   "nbconvert_exporter": "python",
   "pygments_lexer": "ipython2",
   "version": "2.7.6"
  }
 },
 "nbformat": 4,
 "nbformat_minor": 5
}
